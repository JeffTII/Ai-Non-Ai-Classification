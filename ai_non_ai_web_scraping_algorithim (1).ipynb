{
 "cells": [
  {
   "cell_type": "code",
   "execution_count": null,
   "id": "f1b2d770-bcfc-45de-baaf-687b9c71b06c",
   "metadata": {},
   "outputs": [
    {
     "name": "stdout",
     "output_type": "stream",
     "text": [
      "Found 43 image elements\n",
      "Saved image_ai_0_4a03c3ab-4658-4295-9e0f-c99c51a5f334.jpg to Desktop/PROJECTS/ai-project/ai/\n",
      "Saved image_ai_1_8c320f75-7c48-48b5-b258-3f55f1edd935.jpg to Desktop/PROJECTS/ai-project/ai/\n",
      "Saved image_ai_2_0dc81205-57a7-4f4f-8633-c3a5ad82c88e.jpg to Desktop/PROJECTS/ai-project/ai/\n",
      "Saved image_ai_3_1b37119a-293f-478a-8f13-48d97070db44.jpg to Desktop/PROJECTS/ai-project/ai/\n",
      "Saved image_ai_4_89575c7d-432a-4f40-a556-b12fbdb72a11.jpg to Desktop/PROJECTS/ai-project/ai/\n"
     ]
    }
   ],
   "source": [
    "#Importing necessary files\n",
    "\n",
    "from selenium import webdriver\n",
    "from selenium.webdriver.chrome.service import Service as ChromeService\n",
    "from webdriver_manager.chrome import ChromeDriverManager\n",
    "import requests\n",
    "import os\n",
    "import uuid\n",
    "\n",
    "# Define local directories for saving images\n",
    "ai_image_folder = 'Desktop/PROJECTS/ai-project/ai/'  \n",
    "non_ai_image_folder = 'Desktop/PROJECTS/ai-project/non-ai/'\n",
    "\n",
    "# Check if directories exist\n",
    "os.makedirs(ai_image_folder, exist_ok=True)\n",
    "os.makedirs(non_ai_image_folder, exist_ok=True)\n",
    "\n",
    "def setup_webdriver():\n",
    "    try:\n",
    "        # Setup ChromeDriver using WebDriver Manager\n",
    "        service = ChromeService(ChromeDriverManager().install())\n",
    "        options = webdriver.ChromeOptions()\n",
    "        driver = webdriver.Chrome(service=service, options=options)\n",
    "        return driver\n",
    "    except Exception as e:\n",
    "        print(f\"Error setting up WebDriver: {e}\")\n",
    "        return None\n",
    "\n",
    "def download_image(img_data, img_name, category):\n",
    "    # Define local folder based on the category\n",
    "    local_folder = ai_image_folder if category == 'ai' else non_ai_image_folder\n",
    "    # Add a unique identifier to the image name, so that the same picture isn't uploaded twice\n",
    "    unique_img_name = f'{img_name}_{uuid.uuid4()}.jpg'\n",
    "    local_path = os.path.join(local_folder, unique_img_name)\n",
    "    try:\n",
    "        with open(local_path, 'wb') as f:\n",
    "            f.write(img_data)\n",
    "        print(f'Saved {unique_img_name} to {local_folder}')\n",
    "    except Exception as e:\n",
    "        print(f\"Failed to save {img_name}: {e}\")\n",
    "\n",
    "def scrape_images(url, category):\n",
    "    driver = setup_webdriver()\n",
    "    if not driver:\n",
    "        print(\"WebDriver setup failed. Exiting.\")\n",
    "        return\n",
    "\n",
    "    try:\n",
    "        driver.get(url)\n",
    "\n",
    "        img_elements = driver.find_elements('tag name', 'img')\n",
    "        print(f\"Found {len(img_elements)} image elements\")\n",
    "\n",
    "        for idx, img in enumerate(img_elements):\n",
    "            img_url = img.get_attribute('src')\n",
    "            if img_url:\n",
    "                try:\n",
    "                    img_data = requests.get(img_url).content\n",
    "                    img_name = f'image_{category}_{idx}'\n",
    "                    download_image(img_data, img_name, category)\n",
    "                except Exception as e:\n",
    "                    print(f\"Failed to download {img_url}: {e}\")\n",
    "    except Exception as e:\n",
    "        print(f\"Error during scraping: {e}\")\n",
    "    finally:\n",
    "        driver.quit()\n",
    "\n",
    "\n",
    "ai_url = 'https://app.all-images.ai/en/f/images/search?pageIndex=0&pageSize=40&search=city'\n",
    "non_ai_url = 'https://www.pexels.com/search/city/'\n",
    "\n",
    "scrape_images(ai_url, 'ai')  \n",
    "scrape_images(non_ai_url, 'non_ai')  \n"
   ]
  },
  {
   "cell_type": "code",
   "execution_count": null,
   "id": "53b9451b-4308-4777-b582-69e609b31f8e",
   "metadata": {},
   "outputs": [],
   "source": []
  }
 ],
 "metadata": {
  "kernelspec": {
   "display_name": "Python 3 (ipykernel)",
   "language": "python",
   "name": "python3"
  },
  "language_info": {
   "codemirror_mode": {
    "name": "ipython",
    "version": 3
   },
   "file_extension": ".py",
   "mimetype": "text/x-python",
   "name": "python",
   "nbconvert_exporter": "python",
   "pygments_lexer": "ipython3",
   "version": "3.11.7"
  }
 },
 "nbformat": 4,
 "nbformat_minor": 5
}
