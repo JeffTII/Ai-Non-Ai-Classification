{
  "cells": [
    {
      "cell_type": "markdown",
      "metadata": {
        "id": "view-in-github",
        "colab_type": "text"
      },
      "source": [
        "<a href=\"https://colab.research.google.com/github/JeffTII/Ai-Non-Ai-Classification/blob/main/ai_non_ai.ipynb\" target=\"_parent\"><img src=\"https://colab.research.google.com/assets/colab-badge.svg\" alt=\"Open In Colab\"/></a>"
      ]
    },
    {
      "cell_type": "code",
      "execution_count": null,
      "metadata": {
        "id": "ObFb1rhpPz4X"
      },
      "outputs": [],
      "source": [
        "#Creating a machine learning model that will be able to detect ai or non-ai photos"
      ]
    },
    {
      "cell_type": "markdown",
      "source": [
        "Importing necessary packages and files"
      ],
      "metadata": {
        "id": "1MIphhSdAAm5"
      }
    },
    {
      "cell_type": "code",
      "execution_count": null,
      "metadata": {
        "id": "6UT8efvnQGp3"
      },
      "outputs": [],
      "source": [
        "import os\n",
        "import zipfile\n",
        "import random\n",
        "import shutil\n",
        "import tensorflow as tf\n",
        "from tensorflow.keras.preprocessing.image import ImageDataGenerator\n",
        "from shutil import copyfile\n",
        "import matplotlib.pyplot as plt\n",
        "from google.colab import files"
      ]
    },
    {
      "cell_type": "markdown",
      "source": [
        "Uploading a zip file with the images"
      ],
      "metadata": {
        "id": "L6GINowCAGFf"
      }
    },
    {
      "cell_type": "code",
      "execution_count": null,
      "metadata": {
        "colab": {
          "base_uri": "https://localhost:8080/",
          "height": 73
        },
        "id": "JLoh1NlcZKFU",
        "outputId": "cf4fc47d-8f33-4c23-f59a-071149eb604e"
      },
      "outputs": [
        {
          "output_type": "display_data",
          "data": {
            "text/plain": [
              "<IPython.core.display.HTML object>"
            ],
            "text/html": [
              "\n",
              "     <input type=\"file\" id=\"files-f1625c36-ed9b-481b-8116-6d20b8ca999f\" name=\"files[]\" multiple disabled\n",
              "        style=\"border:none\" />\n",
              "     <output id=\"result-f1625c36-ed9b-481b-8116-6d20b8ca999f\">\n",
              "      Upload widget is only available when the cell has been executed in the\n",
              "      current browser session. Please rerun this cell to enable.\n",
              "      </output>\n",
              "      <script>// Copyright 2017 Google LLC\n",
              "//\n",
              "// Licensed under the Apache License, Version 2.0 (the \"License\");\n",
              "// you may not use this file except in compliance with the License.\n",
              "// You may obtain a copy of the License at\n",
              "//\n",
              "//      http://www.apache.org/licenses/LICENSE-2.0\n",
              "//\n",
              "// Unless required by applicable law or agreed to in writing, software\n",
              "// distributed under the License is distributed on an \"AS IS\" BASIS,\n",
              "// WITHOUT WARRANTIES OR CONDITIONS OF ANY KIND, either express or implied.\n",
              "// See the License for the specific language governing permissions and\n",
              "// limitations under the License.\n",
              "\n",
              "/**\n",
              " * @fileoverview Helpers for google.colab Python module.\n",
              " */\n",
              "(function(scope) {\n",
              "function span(text, styleAttributes = {}) {\n",
              "  const element = document.createElement('span');\n",
              "  element.textContent = text;\n",
              "  for (const key of Object.keys(styleAttributes)) {\n",
              "    element.style[key] = styleAttributes[key];\n",
              "  }\n",
              "  return element;\n",
              "}\n",
              "\n",
              "// Max number of bytes which will be uploaded at a time.\n",
              "const MAX_PAYLOAD_SIZE = 100 * 1024;\n",
              "\n",
              "function _uploadFiles(inputId, outputId) {\n",
              "  const steps = uploadFilesStep(inputId, outputId);\n",
              "  const outputElement = document.getElementById(outputId);\n",
              "  // Cache steps on the outputElement to make it available for the next call\n",
              "  // to uploadFilesContinue from Python.\n",
              "  outputElement.steps = steps;\n",
              "\n",
              "  return _uploadFilesContinue(outputId);\n",
              "}\n",
              "\n",
              "// This is roughly an async generator (not supported in the browser yet),\n",
              "// where there are multiple asynchronous steps and the Python side is going\n",
              "// to poll for completion of each step.\n",
              "// This uses a Promise to block the python side on completion of each step,\n",
              "// then passes the result of the previous step as the input to the next step.\n",
              "function _uploadFilesContinue(outputId) {\n",
              "  const outputElement = document.getElementById(outputId);\n",
              "  const steps = outputElement.steps;\n",
              "\n",
              "  const next = steps.next(outputElement.lastPromiseValue);\n",
              "  return Promise.resolve(next.value.promise).then((value) => {\n",
              "    // Cache the last promise value to make it available to the next\n",
              "    // step of the generator.\n",
              "    outputElement.lastPromiseValue = value;\n",
              "    return next.value.response;\n",
              "  });\n",
              "}\n",
              "\n",
              "/**\n",
              " * Generator function which is called between each async step of the upload\n",
              " * process.\n",
              " * @param {string} inputId Element ID of the input file picker element.\n",
              " * @param {string} outputId Element ID of the output display.\n",
              " * @return {!Iterable<!Object>} Iterable of next steps.\n",
              " */\n",
              "function* uploadFilesStep(inputId, outputId) {\n",
              "  const inputElement = document.getElementById(inputId);\n",
              "  inputElement.disabled = false;\n",
              "\n",
              "  const outputElement = document.getElementById(outputId);\n",
              "  outputElement.innerHTML = '';\n",
              "\n",
              "  const pickedPromise = new Promise((resolve) => {\n",
              "    inputElement.addEventListener('change', (e) => {\n",
              "      resolve(e.target.files);\n",
              "    });\n",
              "  });\n",
              "\n",
              "  const cancel = document.createElement('button');\n",
              "  inputElement.parentElement.appendChild(cancel);\n",
              "  cancel.textContent = 'Cancel upload';\n",
              "  const cancelPromise = new Promise((resolve) => {\n",
              "    cancel.onclick = () => {\n",
              "      resolve(null);\n",
              "    };\n",
              "  });\n",
              "\n",
              "  // Wait for the user to pick the files.\n",
              "  const files = yield {\n",
              "    promise: Promise.race([pickedPromise, cancelPromise]),\n",
              "    response: {\n",
              "      action: 'starting',\n",
              "    }\n",
              "  };\n",
              "\n",
              "  cancel.remove();\n",
              "\n",
              "  // Disable the input element since further picks are not allowed.\n",
              "  inputElement.disabled = true;\n",
              "\n",
              "  if (!files) {\n",
              "    return {\n",
              "      response: {\n",
              "        action: 'complete',\n",
              "      }\n",
              "    };\n",
              "  }\n",
              "\n",
              "  for (const file of files) {\n",
              "    const li = document.createElement('li');\n",
              "    li.append(span(file.name, {fontWeight: 'bold'}));\n",
              "    li.append(span(\n",
              "        `(${file.type || 'n/a'}) - ${file.size} bytes, ` +\n",
              "        `last modified: ${\n",
              "            file.lastModifiedDate ? file.lastModifiedDate.toLocaleDateString() :\n",
              "                                    'n/a'} - `));\n",
              "    const percent = span('0% done');\n",
              "    li.appendChild(percent);\n",
              "\n",
              "    outputElement.appendChild(li);\n",
              "\n",
              "    const fileDataPromise = new Promise((resolve) => {\n",
              "      const reader = new FileReader();\n",
              "      reader.onload = (e) => {\n",
              "        resolve(e.target.result);\n",
              "      };\n",
              "      reader.readAsArrayBuffer(file);\n",
              "    });\n",
              "    // Wait for the data to be ready.\n",
              "    let fileData = yield {\n",
              "      promise: fileDataPromise,\n",
              "      response: {\n",
              "        action: 'continue',\n",
              "      }\n",
              "    };\n",
              "\n",
              "    // Use a chunked sending to avoid message size limits. See b/62115660.\n",
              "    let position = 0;\n",
              "    do {\n",
              "      const length = Math.min(fileData.byteLength - position, MAX_PAYLOAD_SIZE);\n",
              "      const chunk = new Uint8Array(fileData, position, length);\n",
              "      position += length;\n",
              "\n",
              "      const base64 = btoa(String.fromCharCode.apply(null, chunk));\n",
              "      yield {\n",
              "        response: {\n",
              "          action: 'append',\n",
              "          file: file.name,\n",
              "          data: base64,\n",
              "        },\n",
              "      };\n",
              "\n",
              "      let percentDone = fileData.byteLength === 0 ?\n",
              "          100 :\n",
              "          Math.round((position / fileData.byteLength) * 100);\n",
              "      percent.textContent = `${percentDone}% done`;\n",
              "\n",
              "    } while (position < fileData.byteLength);\n",
              "  }\n",
              "\n",
              "  // All done.\n",
              "  yield {\n",
              "    response: {\n",
              "      action: 'complete',\n",
              "    }\n",
              "  };\n",
              "}\n",
              "\n",
              "scope.google = scope.google || {};\n",
              "scope.google.colab = scope.google.colab || {};\n",
              "scope.google.colab._files = {\n",
              "  _uploadFiles,\n",
              "  _uploadFilesContinue,\n",
              "};\n",
              "})(self);\n",
              "</script> "
            ]
          },
          "metadata": {}
        },
        {
          "output_type": "stream",
          "name": "stdout",
          "text": [
            "Saving ai-project.zip to ai-project.zip\n"
          ]
        }
      ],
      "source": [
        "uploaded = files.upload()\n",
        "\n",
        "zip_filename = 'ai-project.zip'\n",
        "\n",
        "# Unzip the uploaded file\n",
        "with zipfile.ZipFile(zip_filename, 'r') as zip_ref:\n",
        "    zip_ref.extractall('/content/')"
      ]
    },
    {
      "cell_type": "markdown",
      "source": [
        "Opening the zip file, and contains a function that will delete the non-images in the image folder"
      ],
      "metadata": {
        "id": "enbqsY1qARpY"
      }
    },
    {
      "cell_type": "code",
      "execution_count": null,
      "metadata": {
        "colab": {
          "base_uri": "https://localhost:8080/"
        },
        "id": "l9jy0ADlbFQ3",
        "outputId": "c2ba5b28-d985-472c-8b51-69bf13e37c5a"
      },
      "outputs": [
        {
          "output_type": "stream",
          "name": "stdout",
          "text": [
            "There are 252 images of AI.\n",
            "There are 224 images of non-AI.\n"
          ]
        }
      ],
      "source": [
        "\n",
        "base_dir = '/content/ai-project'\n",
        "\n",
        "source_path_ai = os.path.join(base_dir, 'ai')\n",
        "source_path_non_ai = os.path.join(base_dir, 'non-ai')\n",
        "\n",
        "# Function that will delete the non-image files\n",
        "def delete_non_image_files(directory):\n",
        "    for filename in os.listdir(directory):\n",
        "        if not (filename.lower().endswith(\".jpg\") or filename.lower().endswith(\".jpeg\") or filename.lower().endswith(\".png\")):\n",
        "            file_path = os.path.join(directory, filename)\n",
        "            if os.path.isfile(file_path):\n",
        "                os.remove(file_path)\n",
        "\n",
        "# Delete non-image files in the source directories\n",
        "delete_non_image_files(source_path_ai)\n",
        "delete_non_image_files(source_path_non_ai)\n",
        "\n",
        "# os.listdir returns a list containing all files under the given path\n",
        "print(f\"There are {len(os.listdir(source_path_ai))} images of AI.\")\n",
        "print(f\"There are {len(os.listdir(source_path_non_ai))} images of non-AI.\")\n"
      ]
    },
    {
      "cell_type": "markdown",
      "source": [
        "Splitting the images into training and validation folders"
      ],
      "metadata": {
        "id": "E6xy1KqGAq4s"
      }
    },
    {
      "cell_type": "code",
      "execution_count": null,
      "metadata": {
        "colab": {
          "base_uri": "https://localhost:8080/"
        },
        "id": "7ClHguhzQIIp",
        "outputId": "a1992e5a-19d9-43a9-cefa-bf0fcaa45253"
      },
      "outputs": [
        {
          "output_type": "stream",
          "name": "stdout",
          "text": [
            "AI Directory: /content/ai-project/ai\n",
            "Non-AI Directory: /content/ai-project/non-ai\n",
            "Training AI Directory: /content/ai-project/training/ai\n",
            "Training Non-AI Directory: /content/ai-project/training/non-ai\n",
            "Validation AI Directory: /content/ai-project/validation/ai\n",
            "Validation Non-AI Directory: /content/ai-project/validation/non-ai\n",
            "Does the AI directory exist? True\n",
            "Does the Non-AI directory exist? True\n"
          ]
        }
      ],
      "source": [
        "base_dir = '/content/ai-project'\n",
        "\n",
        "ai_dir = os.path.join(base_dir, 'ai')\n",
        "non_ai_dir = os.path.join(base_dir, 'non-ai')\n",
        "\n",
        "training_dir = os.path.join(base_dir, 'training')\n",
        "validation_dir = os.path.join(base_dir, 'validation')\n",
        "\n",
        "training_ai_dir = os.path.join(training_dir, 'ai')\n",
        "training_non_ai_dir = os.path.join(training_dir, 'non-ai')\n",
        "\n",
        "validation_ai_dir = os.path.join(validation_dir, 'ai')\n",
        "validation_non_ai_dir = os.path.join(validation_dir, 'non-ai')\n",
        "\n",
        "# Create directories if they do not exist\n",
        "os.makedirs(training_ai_dir, exist_ok=True)\n",
        "os.makedirs(training_non_ai_dir, exist_ok=True)\n",
        "os.makedirs(validation_ai_dir, exist_ok=True)\n",
        "os.makedirs(validation_non_ai_dir, exist_ok=True)\n",
        "\n",
        "print(f\"AI Directory: {ai_dir}\")\n",
        "print(f\"Non-AI Directory: {non_ai_dir}\")\n",
        "print(f\"Training AI Directory: {training_ai_dir}\")\n",
        "print(f\"Training Non-AI Directory: {training_non_ai_dir}\")\n",
        "print(f\"Validation AI Directory: {validation_ai_dir}\")\n",
        "print(f\"Validation Non-AI Directory: {validation_non_ai_dir}\")\n",
        "\n",
        "# Check if the directories exist\n",
        "print(f\"Does the AI directory exist? {os.path.exists(ai_dir)}\")\n",
        "\n",
        "print(f\"Does the Non-AI directory exist? {os.path.exists(non_ai_dir)}\")"
      ]
    },
    {
      "cell_type": "markdown",
      "source": [
        "Check if the directory is empty and removes empty directories"
      ],
      "metadata": {
        "id": "nUgP4s2uA76m"
      }
    },
    {
      "cell_type": "code",
      "execution_count": null,
      "metadata": {
        "id": "uII8p_kJXGon"
      },
      "outputs": [],
      "source": [
        "for dir_path in [training_ai_dir, training_non_ai_dir, validation_ai_dir, validation_non_ai_dir]:\n",
        "    if len(os.listdir(dir_path)) > 0:\n",
        "        for file in os.scandir(dir_path):\n",
        "            os.remove(file.path)"
      ]
    },
    {
      "cell_type": "markdown",
      "source": [
        "Splitting and shuffling the images"
      ],
      "metadata": {
        "id": "e-YdyUACBAbb"
      }
    },
    {
      "cell_type": "code",
      "execution_count": null,
      "metadata": {
        "id": "MF-NjtSxXLxi"
      },
      "outputs": [],
      "source": [
        "def split_data(SOURCE_DIR, TRAINING_DIR, VALIDATION_DIR, SPLIT_SIZE):\n",
        "    files = [f for f in os.listdir(SOURCE_DIR) if os.path.isfile(os.path.join(SOURCE_DIR, f))]\n",
        "\n",
        "    non_zero_files = [file for file in files if os.path.getsize(os.path.join(SOURCE_DIR, file)) > 0]\n",
        "\n",
        "    random.shuffle(non_zero_files)\n",
        "\n",
        "    split_idx = int(len(non_zero_files) * SPLIT_SIZE)\n",
        "\n",
        "    train_files = non_zero_files[:split_idx]\n",
        "    val_files = non_zero_files[split_idx:]\n",
        "\n",
        "    for file in train_files:\n",
        "        copyfile(os.path.join(SOURCE_DIR, file), os.path.join(TRAINING_DIR, file))\n",
        "\n",
        "    for file in val_files:\n",
        "        copyfile(os.path.join(SOURCE_DIR, file), os.path.join(VALIDATION_DIR, file))\n",
        "\n",
        "    print(f\"Total files: {len(files)}\")\n",
        "    print(f\"Non-zero length files: {len(non_zero_files)}\")\n",
        "    print(f\"Training files: {len(train_files)}\")\n",
        "    print(f\"Validation files: {len(val_files)}\")"
      ]
    },
    {
      "cell_type": "markdown",
      "source": [
        "Runs the the code above, and outputs the results"
      ],
      "metadata": {
        "id": "aBiqGDCeBSP3"
      }
    },
    {
      "cell_type": "code",
      "execution_count": null,
      "metadata": {
        "colab": {
          "base_uri": "https://localhost:8080/"
        },
        "id": "Ppu7dmc4XWIV",
        "outputId": "46184ec1-3660-441a-c4be-370737b1a7f0"
      },
      "outputs": [
        {
          "output_type": "stream",
          "name": "stdout",
          "text": [
            "Total files: 252\n",
            "Non-zero length files: 252\n",
            "Training files: 201\n",
            "Validation files: 51\n",
            "Total files: 224\n",
            "Non-zero length files: 224\n",
            "Training files: 179\n",
            "Validation files: 45\n",
            "There are 201 images of AI for training\n",
            "There are 179 images of non-AI for training\n",
            "There are 51 images of AI for validation\n",
            "There are 45 images of non-AI for validation\n"
          ]
        }
      ],
      "source": [
        "SPLIT_SIZE = 0.8\n",
        "\n",
        "# Split the data\n",
        "split_data(ai_dir, training_ai_dir, validation_ai_dir, SPLIT_SIZE)\n",
        "split_data(non_ai_dir, training_non_ai_dir, validation_non_ai_dir, SPLIT_SIZE)\n",
        "\n",
        "# Training and validation splits\n",
        "print(f\"There are {len(os.listdir(training_ai_dir))} images of AI for training\")\n",
        "print(f\"There are {len(os.listdir(training_non_ai_dir))} images of non-AI for training\")\n",
        "\n",
        "print(f\"There are {len(os.listdir(validation_ai_dir))} images of AI for validation\")\n",
        "print(f\"There are {len(os.listdir(validation_non_ai_dir))} images of non-AI for validation\")"
      ]
    },
    {
      "cell_type": "markdown",
      "source": [
        "Creating the image training and validation generators"
      ],
      "metadata": {
        "id": "K916OLknBWzT"
      }
    },
    {
      "cell_type": "code",
      "execution_count": null,
      "metadata": {
        "id": "u591Y2IFs96I"
      },
      "outputs": [],
      "source": [
        "\n",
        "def train_val_generators(TRAINING_DIR, VALIDATION_DIR):\n",
        "\n",
        "  train_datagen = ImageDataGenerator(\n",
        "      #augmentation\n",
        "    rescale=1./255,\n",
        "    rotation_range=40,\n",
        "    width_shift_range=0.2,\n",
        "    height_shift_range=0.2,\n",
        "    shear_range=0.2,\n",
        "    zoom_range=0.2,\n",
        "    horizontal_flip=True,\n",
        "    fill_mode='nearest'\n",
        ")\n",
        "\n",
        "  train_generator = train_datagen.flow_from_directory(directory=TRAINING_DIR,\n",
        "                                                      batch_size=16,\n",
        "                                                      class_mode='binary',\n",
        "                                                      target_size=(150, 150))\n",
        "\n",
        "\n",
        "  validation_datagen = ImageDataGenerator(rescale=1./255)\n",
        "\n",
        "  validation_generator = validation_datagen.flow_from_directory(directory=VALIDATION_DIR,\n",
        "                                                                batch_size=16,\n",
        "                                                                class_mode='binary',\n",
        "                                                                target_size=(150, 150))\n",
        "\n",
        "  return train_generator, validation_generator"
      ]
    },
    {
      "cell_type": "code",
      "execution_count": null,
      "metadata": {
        "colab": {
          "base_uri": "https://localhost:8080/"
        },
        "id": "lvPUDgBmtOCA",
        "outputId": "90e19a1c-69e4-4d99-8217-4e517a783494"
      },
      "outputs": [
        {
          "output_type": "stream",
          "name": "stdout",
          "text": [
            "Found 380 images belonging to 2 classes.\n",
            "Found 96 images belonging to 2 classes.\n"
          ]
        }
      ],
      "source": [
        "train_generator, validation_generator = train_val_generators(training_dir, validation_dir)"
      ]
    },
    {
      "cell_type": "markdown",
      "source": [
        "Importing the necessary packages"
      ],
      "metadata": {
        "id": "LczjNWCABqqN"
      }
    },
    {
      "cell_type": "code",
      "execution_count": null,
      "metadata": {
        "colab": {
          "base_uri": "https://localhost:8080/"
        },
        "id": "KjrNPT5u_n3v",
        "outputId": "341eb554-5ac9-4829-a138-a29d35dc608a"
      },
      "outputs": [
        {
          "output_type": "stream",
          "name": "stdout",
          "text": [
            "Downloading data from https://storage.googleapis.com/tensorflow/keras-applications/vgg16/vgg16_weights_tf_dim_ordering_tf_kernels_notop.h5\n",
            "58889256/58889256 [==============================] - 1s 0us/step\n",
            "Epoch 1/20\n",
            " 4/24 [====>.........................] - ETA: 1:22 - loss: 2.8587 - accuracy: 0.5000"
          ]
        },
        {
          "output_type": "stream",
          "name": "stderr",
          "text": [
            "/usr/local/lib/python3.10/dist-packages/PIL/Image.py:996: UserWarning: Palette images with Transparency expressed in bytes should be converted to RGBA images\n",
            "  warnings.warn(\n"
          ]
        },
        {
          "output_type": "stream",
          "name": "stdout",
          "text": [
            "24/24 [==============================] - 130s 5s/step - loss: 1.2744 - accuracy: 0.6053 - val_loss: 0.5512 - val_accuracy: 0.6979\n",
            "Epoch 2/20\n",
            "24/24 [==============================] - 123s 5s/step - loss: 0.6201 - accuracy: 0.6842 - val_loss: 0.5080 - val_accuracy: 0.7292\n",
            "Epoch 3/20\n",
            "24/24 [==============================] - 123s 5s/step - loss: 0.5318 - accuracy: 0.7289 - val_loss: 0.5029 - val_accuracy: 0.7500\n",
            "Epoch 4/20\n",
            "24/24 [==============================] - 141s 6s/step - loss: 0.4970 - accuracy: 0.7605 - val_loss: 0.4328 - val_accuracy: 0.7812\n",
            "Epoch 5/20\n",
            "24/24 [==============================] - 126s 5s/step - loss: 0.4997 - accuracy: 0.7474 - val_loss: 0.4727 - val_accuracy: 0.7604\n",
            "Epoch 6/20\n",
            "24/24 [==============================] - 130s 5s/step - loss: 0.4544 - accuracy: 0.7711 - val_loss: 0.4468 - val_accuracy: 0.7292\n",
            "Epoch 7/20\n",
            "24/24 [==============================] - 142s 6s/step - loss: 0.4596 - accuracy: 0.8000 - val_loss: 0.4414 - val_accuracy: 0.7708\n",
            "Epoch 8/20\n",
            "24/24 [==============================] - 126s 5s/step - loss: 0.4590 - accuracy: 0.7921 - val_loss: 0.4084 - val_accuracy: 0.7917\n",
            "Epoch 9/20\n",
            "24/24 [==============================] - 127s 5s/step - loss: 0.3928 - accuracy: 0.7947 - val_loss: 0.4195 - val_accuracy: 0.7708\n",
            "Epoch 10/20\n",
            "24/24 [==============================] - 142s 6s/step - loss: 0.4287 - accuracy: 0.8132 - val_loss: 0.4357 - val_accuracy: 0.7500\n",
            "Epoch 11/20\n",
            "24/24 [==============================] - 144s 6s/step - loss: 0.3831 - accuracy: 0.8158 - val_loss: 0.3901 - val_accuracy: 0.7917\n",
            "Epoch 12/20\n",
            "24/24 [==============================] - 125s 5s/step - loss: 0.3868 - accuracy: 0.8289 - val_loss: 0.4119 - val_accuracy: 0.7708\n",
            "Epoch 13/20\n",
            "24/24 [==============================] - 142s 6s/step - loss: 0.3917 - accuracy: 0.8211 - val_loss: 0.4573 - val_accuracy: 0.7604\n",
            "Epoch 14/20\n",
            "24/24 [==============================] - 121s 5s/step - loss: 0.3866 - accuracy: 0.8342 - val_loss: 0.5298 - val_accuracy: 0.7292\n",
            "Epoch 15/20\n",
            "24/24 [==============================] - 125s 5s/step - loss: 0.3660 - accuracy: 0.8237 - val_loss: 0.4286 - val_accuracy: 0.7812\n",
            "Epoch 16/20\n",
            "24/24 [==============================] - 141s 6s/step - loss: 0.3958 - accuracy: 0.8132 - val_loss: 0.4288 - val_accuracy: 0.7917\n"
          ]
        }
      ],
      "source": [
        "from tensorflow.keras.applications import VGG16\n",
        "from tensorflow.keras.layers import Dense, Flatten, Dropout\n",
        "from tensorflow.keras.models import Model\n",
        "from tensorflow.keras.callbacks import EarlyStopping\n",
        "from tensorflow.keras.optimizers import Adam\n",
        "\n",
        "#Using data transfer for this model, since I didn't have enough pictures in the folders\n",
        "\n",
        "base_model = VGG16(weights='imagenet', include_top=False, input_shape=(150, 150, 3))\n",
        "\n",
        "# Add custom top layers\n",
        "x = base_model.output\n",
        "x = Flatten()(x)\n",
        "x = Dense(512, activation='relu')(x)\n",
        "x = Dropout(0.3)(x)\n",
        "predictions = Dense(1, activation='sigmoid')(x)\n",
        "\n",
        "# Define the model\n",
        "model = Model(inputs=base_model.input, outputs=predictions)\n",
        "\n",
        "# Freeze the layers of VGG16 model\n",
        "for layer in base_model.layers:\n",
        "    layer.trainable = False\n",
        "\n",
        "# Compile the model\n",
        "model.compile(optimizer=Adam(learning_rate=0.001), loss='binary_crossentropy', metrics=['accuracy'])\n",
        "\n",
        "# Early stopping callback to avoid overfitting\n",
        "early_stopping = EarlyStopping(monitor='val_loss', patience=5, restore_best_weights=True)\n",
        "\n",
        "# Train the model\n",
        "history = model.fit(\n",
        "    train_generator,\n",
        "    epochs=20,\n",
        "    validation_data=validation_generator,\n",
        "    callbacks=[early_stopping]\n",
        ")"
      ]
    },
    {
      "cell_type": "markdown",
      "metadata": {
        "id": "5q8ZtCPVLA7Y"
      },
      "source": [
        "Commenting out the code below, until I scrape more photos."
      ]
    },
    {
      "cell_type": "code",
      "execution_count": null,
      "metadata": {
        "colab": {
          "base_uri": "https://localhost:8080/",
          "height": 105
        },
        "id": "zv9AjM7wtg-X",
        "outputId": "007ff771-d9c7-4f58-fe85-335e9f1940c3"
      },
      "outputs": [
        {
          "data": {
            "application/vnd.google.colaboratory.intrinsic+json": {
              "type": "string"
            },
            "text/plain": [
              "\"\\ndef create_model():\\n\\n  model = tf.keras.models.Sequential([\\n      tf.keras.layers.Conv2D(16,(3,3), activation='relu',\\n                              input_shape=(150,150,3)),\\n      tf.keras.layers.MaxPooling2D(2,2),\\n      tf.keras.layers.Conv2D(32,(3,3), activation='relu'),\\n      tf.keras.layers.MaxPooling2D(2,2),\\n      tf.keras.layers.Conv2D(64,(3,3), activation='relu'),\\n      tf.keras.layers.MaxPooling2D(2,2),\\n      tf.keras.layers.Flatten(),\\n      tf.keras.layers.Dense(512, activation='relu'),\\n      tf.keras.layers.Dense(1, activation='sigmoid'),\\n\\n  ])\\n\\n\\n\\n  model.compile(optimizer='adam',\\n                loss='binary_crossentropy',\\n                metrics=['accuracy'])\\n\\n\\n  return model\""
            ]
          },
          "execution_count": 12,
          "metadata": {},
          "output_type": "execute_result"
        }
      ],
      "source": [
        "'''\n",
        "def create_model():\n",
        "\n",
        "  model = tf.keras.models.Sequential([\n",
        "      tf.keras.layers.Conv2D(16,(3,3), activation='relu',\n",
        "                              input_shape=(150,150,3)),\n",
        "      tf.keras.layers.MaxPooling2D(2,2),\n",
        "      tf.keras.layers.Conv2D(32,(3,3), activation='relu'),\n",
        "      tf.keras.layers.MaxPooling2D(2,2),\n",
        "      tf.keras.layers.Conv2D(64,(3,3), activation='relu'),\n",
        "      tf.keras.layers.MaxPooling2D(2,2),\n",
        "      tf.keras.layers.Flatten(),\n",
        "      tf.keras.layers.Dense(512, activation='relu'),\n",
        "      tf.keras.layers.Dense(1, activation='sigmoid'),\n",
        "\n",
        "  ])\n",
        "\n",
        "\n",
        "\n",
        "  model.compile(optimizer='adam',\n",
        "                loss='binary_crossentropy',\n",
        "                metrics=['accuracy'])\n",
        "\n",
        "\n",
        "  return model'''"
      ]
    },
    {
      "cell_type": "code",
      "execution_count": null,
      "metadata": {
        "colab": {
          "base_uri": "https://localhost:8080/",
          "height": 53
        },
        "id": "hUVVHjxAtqsS",
        "outputId": "1828a735-02e0-47f5-a96b-96cb61283926"
      },
      "outputs": [
        {
          "data": {
            "application/vnd.google.colaboratory.intrinsic+json": {
              "type": "string"
            },
            "text/plain": [
              "'model = create_model()\\n\\nhistory = model.fit(train_generator,\\n                    epochs=15,\\n                    verbose=1,\\n                    validation_data=validation_generator)'"
            ]
          },
          "execution_count": 13,
          "metadata": {},
          "output_type": "execute_result"
        }
      ],
      "source": [
        "\n",
        "'''model = create_model()\n",
        "\n",
        "history = model.fit(train_generator,\n",
        "                    epochs=15,\n",
        "                    verbose=1,\n",
        "                    validation_data=validation_generator)'''"
      ]
    },
    {
      "cell_type": "markdown",
      "metadata": {
        "id": "zbFxVcLgLGFH"
      },
      "source": [
        "Plotting training vs validation accuracy and loss"
      ]
    },
    {
      "cell_type": "code",
      "execution_count": null,
      "metadata": {
        "colab": {
          "base_uri": "https://localhost:8080/",
          "height": 882
        },
        "id": "Ht7eiDwc-lgQ",
        "outputId": "e372d068-6dcf-4de4-e221-dbf6dac02091"
      },
      "outputs": [
        {
          "data": {
            "image/png": "[encoded data removed]",
            "text/plain": [
              "<Figure size 640x480 with 1 Axes>"
            ]
          },
          "metadata": {},
          "output_type": "display_data"
        },
        {
          "name": "stdout",
          "output_type": "stream",
          "text": [
            "\n"
          ]
        },
        {
          "data": {
            "image/png": "[encoded data removed]",
            "text/plain": [
              "<Figure size 640x480 with 1 Axes>"
            ]
          },
          "metadata": {},
          "output_type": "display_data"
        }
      ],
      "source": [
        "#-----------------------------------------------------------\n",
        "# Retrieve a list of list results on training and test data\n",
        "# sets for each training epoch\n",
        "#-----------------------------------------------------------\n",
        "acc=history.history['accuracy']\n",
        "val_acc=history.history['val_accuracy']\n",
        "loss=history.history['loss']\n",
        "val_loss=history.history['val_loss']\n",
        "\n",
        "epochs=range(len(acc)) # Get number of epochs\n",
        "\n",
        "#------------------------------------------------\n",
        "# Plot training and validation accuracy per epoch\n",
        "#------------------------------------------------\n",
        "plt.plot(epochs, acc, 'r', \"Training Accuracy\")\n",
        "plt.plot(epochs, val_acc, 'b', \"Validation Accuracy\")\n",
        "plt.title('Training and validation accuracy')\n",
        "plt.show()\n",
        "print(\"\")\n",
        "\n",
        "#------------------------------------------------\n",
        "# Plot training and validation loss per epoch\n",
        "#------------------------------------------------\n",
        "plt.plot(epochs, loss, 'r', \"Training Loss\")\n",
        "plt.plot(epochs, val_loss, 'b', \"Validation Loss\")\n",
        "plt.show()"
      ]
    },
    {
      "cell_type": "markdown",
      "source": [
        "Code that allows the user to upload a photo and then classify it as AI or non-AI"
      ],
      "metadata": {
        "id": "UXrlbXjVB93L"
      }
    },
    {
      "cell_type": "code",
      "execution_count": null,
      "metadata": {
        "colab": {
          "base_uri": "https://localhost:8080/",
          "height": 125
        },
        "id": "qQqwvsCeL4h2",
        "outputId": "436182df-04b1-4bae-863f-fbab9393a974"
      },
      "outputs": [
        {
          "data": {
            "text/html": [
              "\n",
              "     <input type=\"file\" id=\"files-f77cdd11-5f6c-4d1b-8b42-51f5444e6b5e\" name=\"files[]\" multiple disabled\n",
              "        style=\"border:none\" />\n",
              "     <output id=\"result-f77cdd11-5f6c-4d1b-8b42-51f5444e6b5e\">\n",
              "      Upload widget is only available when the cell has been executed in the\n",
              "      current browser session. Please rerun this cell to enable.\n",
              "      </output>\n",
              "      <script>// Copyright 2017 Google LLC\n",
              "//\n",
              "// Licensed under the Apache License, Version 2.0 (the \"License\");\n",
              "// you may not use this file except in compliance with the License.\n",
              "// You may obtain a copy of the License at\n",
              "//\n",
              "//      http://www.apache.org/licenses/LICENSE-2.0\n",
              "//\n",
              "// Unless required by applicable law or agreed to in writing, software\n",
              "// distributed under the License is distributed on an \"AS IS\" BASIS,\n",
              "// WITHOUT WARRANTIES OR CONDITIONS OF ANY KIND, either express or implied.\n",
              "// See the License for the specific language governing permissions and\n",
              "// limitations under the License.\n",
              "\n",
              "/**\n",
              " * @fileoverview Helpers for google.colab Python module.\n",
              " */\n",
              "(function(scope) {\n",
              "function span(text, styleAttributes = {}) {\n",
              "  const element = document.createElement('span');\n",
              "  element.textContent = text;\n",
              "  for (const key of Object.keys(styleAttributes)) {\n",
              "    element.style[key] = styleAttributes[key];\n",
              "  }\n",
              "  return element;\n",
              "}\n",
              "\n",
              "// Max number of bytes which will be uploaded at a time.\n",
              "const MAX_PAYLOAD_SIZE = 100 * 1024;\n",
              "\n",
              "function _uploadFiles(inputId, outputId) {\n",
              "  const steps = uploadFilesStep(inputId, outputId);\n",
              "  const outputElement = document.getElementById(outputId);\n",
              "  // Cache steps on the outputElement to make it available for the next call\n",
              "  // to uploadFilesContinue from Python.\n",
              "  outputElement.steps = steps;\n",
              "\n",
              "  return _uploadFilesContinue(outputId);\n",
              "}\n",
              "\n",
              "// This is roughly an async generator (not supported in the browser yet),\n",
              "// where there are multiple asynchronous steps and the Python side is going\n",
              "// to poll for completion of each step.\n",
              "// This uses a Promise to block the python side on completion of each step,\n",
              "// then passes the result of the previous step as the input to the next step.\n",
              "function _uploadFilesContinue(outputId) {\n",
              "  const outputElement = document.getElementById(outputId);\n",
              "  const steps = outputElement.steps;\n",
              "\n",
              "  const next = steps.next(outputElement.lastPromiseValue);\n",
              "  return Promise.resolve(next.value.promise).then((value) => {\n",
              "    // Cache the last promise value to make it available to the next\n",
              "    // step of the generator.\n",
              "    outputElement.lastPromiseValue = value;\n",
              "    return next.value.response;\n",
              "  });\n",
              "}\n",
              "\n",
              "/**\n",
              " * Generator function which is called between each async step of the upload\n",
              " * process.\n",
              " * @param {string} inputId Element ID of the input file picker element.\n",
              " * @param {string} outputId Element ID of the output display.\n",
              " * @return {!Iterable<!Object>} Iterable of next steps.\n",
              " */\n",
              "function* uploadFilesStep(inputId, outputId) {\n",
              "  const inputElement = document.getElementById(inputId);\n",
              "  inputElement.disabled = false;\n",
              "\n",
              "  const outputElement = document.getElementById(outputId);\n",
              "  outputElement.innerHTML = '';\n",
              "\n",
              "  const pickedPromise = new Promise((resolve) => {\n",
              "    inputElement.addEventListener('change', (e) => {\n",
              "      resolve(e.target.files);\n",
              "    });\n",
              "  });\n",
              "\n",
              "  const cancel = document.createElement('button');\n",
              "  inputElement.parentElement.appendChild(cancel);\n",
              "  cancel.textContent = 'Cancel upload';\n",
              "  const cancelPromise = new Promise((resolve) => {\n",
              "    cancel.onclick = () => {\n",
              "      resolve(null);\n",
              "    };\n",
              "  });\n",
              "\n",
              "  // Wait for the user to pick the files.\n",
              "  const files = yield {\n",
              "    promise: Promise.race([pickedPromise, cancelPromise]),\n",
              "    response: {\n",
              "      action: 'starting',\n",
              "    }\n",
              "  };\n",
              "\n",
              "  cancel.remove();\n",
              "\n",
              "  // Disable the input element since further picks are not allowed.\n",
              "  inputElement.disabled = true;\n",
              "\n",
              "  if (!files) {\n",
              "    return {\n",
              "      response: {\n",
              "        action: 'complete',\n",
              "      }\n",
              "    };\n",
              "  }\n",
              "\n",
              "  for (const file of files) {\n",
              "    const li = document.createElement('li');\n",
              "    li.append(span(file.name, {fontWeight: 'bold'}));\n",
              "    li.append(span(\n",
              "        `(${file.type || 'n/a'}) - ${file.size} bytes, ` +\n",
              "        `last modified: ${\n",
              "            file.lastModifiedDate ? file.lastModifiedDate.toLocaleDateString() :\n",
              "                                    'n/a'} - `));\n",
              "    const percent = span('0% done');\n",
              "    li.appendChild(percent);\n",
              "\n",
              "    outputElement.appendChild(li);\n",
              "\n",
              "    const fileDataPromise = new Promise((resolve) => {\n",
              "      const reader = new FileReader();\n",
              "      reader.onload = (e) => {\n",
              "        resolve(e.target.result);\n",
              "      };\n",
              "      reader.readAsArrayBuffer(file);\n",
              "    });\n",
              "    // Wait for the data to be ready.\n",
              "    let fileData = yield {\n",
              "      promise: fileDataPromise,\n",
              "      response: {\n",
              "        action: 'continue',\n",
              "      }\n",
              "    };\n",
              "\n",
              "    // Use a chunked sending to avoid message size limits. See b/62115660.\n",
              "    let position = 0;\n",
              "    do {\n",
              "      const length = Math.min(fileData.byteLength - position, MAX_PAYLOAD_SIZE);\n",
              "      const chunk = new Uint8Array(fileData, position, length);\n",
              "      position += length;\n",
              "\n",
              "      const base64 = btoa(String.fromCharCode.apply(null, chunk));\n",
              "      yield {\n",
              "        response: {\n",
              "          action: 'append',\n",
              "          file: file.name,\n",
              "          data: base64,\n",
              "        },\n",
              "      };\n",
              "\n",
              "      let percentDone = fileData.byteLength === 0 ?\n",
              "          100 :\n",
              "          Math.round((position / fileData.byteLength) * 100);\n",
              "      percent.textContent = `${percentDone}% done`;\n",
              "\n",
              "    } while (position < fileData.byteLength);\n",
              "  }\n",
              "\n",
              "  // All done.\n",
              "  yield {\n",
              "    response: {\n",
              "      action: 'complete',\n",
              "    }\n",
              "  };\n",
              "}\n",
              "\n",
              "scope.google = scope.google || {};\n",
              "scope.google.colab = scope.google.colab || {};\n",
              "scope.google.colab._files = {\n",
              "  _uploadFiles,\n",
              "  _uploadFilesContinue,\n",
              "};\n",
              "})(self);\n",
              "</script> "
            ],
            "text/plain": [
              "<IPython.core.display.HTML object>"
            ]
          },
          "metadata": {},
          "output_type": "display_data"
        },
        {
          "name": "stdout",
          "output_type": "stream",
          "text": [
            "Saving ai_image_864332_23319659.png to ai_image_864332_23319659.png\n",
            "1/1 [==============================] - 0s 456ms/step\n",
            "[0.]\n",
            "ai_image_864332_23319659.png is not a picture of an AI\n"
          ]
        }
      ],
      "source": [
        "import numpy as np\n",
        "\n",
        "from google.colab import files\n",
        "from keras.preprocessing import image\n",
        "\n",
        "uploaded = files.upload()\n",
        "\n",
        "for fn in uploaded.keys():\n",
        "  path = '/content/' + fn\n",
        "  img = image.load_img(path, target_size=(150, 150))\n",
        "  x = image.img_to_array(img)\n",
        "  x = np.expand_dims(x, axis=0)\n",
        "\n",
        "  images = np.vstack([x])\n",
        "  classes = model.predict(images, batch_size=20)\n",
        "  print(classes[0])\n",
        "\n",
        "  if classes[0]>0.5:\n",
        "    print(fn + \" is a picture of an AI\")\n",
        "  else:\n",
        "    print(fn + \" is not a picture of an AI\")"
      ]
    }
  ],
  "metadata": {
    "colab": {
      "provenance": [],
      "authorship_tag": "ABX9TyP486dF+Phu8P6tVdj8Mw9x",
      "include_colab_link": true
    },
    "kernelspec": {
      "display_name": "Python 3",
      "name": "python3"
    },
    "language_info": {
      "name": "python"
    }
  },
  "nbformat": 4,
  "nbformat_minor": 0
}